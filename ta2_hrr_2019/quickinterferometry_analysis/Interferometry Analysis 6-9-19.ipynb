{
 "cells": [
  {
   "cell_type": "markdown",
   "metadata": {},
   "source": [
    "# Quick Interferometry Analysis"
   ]
  },
  {
   "cell_type": "markdown",
   "metadata": {},
   "source": [
    "This code uses just the measured fringe shift and the size of the plasma to infer the electron density for an underdense plasma at a range of pressures. It assumes a uniform plasma density, so if there is, for instance, a Gaussian profile, it will underestimate the peak density."
   ]
  },
  {
   "cell_type": "code",
   "execution_count": 35,
   "metadata": {},
   "outputs": [],
   "source": [
    "from Interferometry import phaseToDensity\n",
    "import scipy.constants as constant\n",
    "import numpy as np\n",
    "import matplotlib.pyplot as plt"
   ]
  },
  {
   "cell_type": "code",
   "execution_count": 5,
   "metadata": {},
   "outputs": [],
   "source": [
    "lambda0 = 0.8e-6;\n",
    "\n",
    "#Calibration\n",
    "m_per_pixel = 5.27e-6"
   ]
  },
  {
   "cell_type": "code",
   "execution_count": 41,
   "metadata": {},
   "outputs": [],
   "source": [
    "P = np.array([0,100,200,300,400,500,600])\n",
    "shifts = np.array([0,0.5,1,1.5,2.5,2.5,3])*2*constant.pi\n",
    "shift_err = 0.5*constant.pi\n",
    "Ls = np.array([1e10, 58,66,78,88,98,94]) * m_per_pixel"
   ]
  },
  {
   "cell_type": "markdown",
   "metadata": {},
   "source": [
    "This data is from run 24 of 5/9/19 - a scan from 100 mbar to 600 mbar of air."
   ]
  },
  {
   "cell_type": "code",
   "execution_count": 59,
   "metadata": {},
   "outputs": [
    {
     "name": "stdout",
     "output_type": "stream",
     "text": [
      "ne: [0.00000000e+00 4.55920883e+18 8.01315492e+18 1.01705428e+19\n",
      " 1.50246655e+19 1.34915363e+19 1.68787731e+19]\n",
      "ne errors: [1.32217056e+10 2.27960442e+18 2.00328873e+18 1.69509046e+18\n",
      " 1.50246655e+18 1.34915363e+18 1.40656443e+18]\n"
     ]
    }
   ],
   "source": [
    "nes = phaseToDensity(shifts,Ls,lambda0)/1e6\n",
    "ne_errs = phaseToDensity(shift_err,Ls,lambda0)/1e6\n",
    "\n",
    "print('ne:',nes)\n",
    "print('ne errors:',ne_errs)"
   ]
  },
  {
   "cell_type": "code",
   "execution_count": 65,
   "metadata": {},
   "outputs": [
    {
     "name": "stdout",
     "output_type": "stream",
     "text": [
      "Coefficient: 2.958232729987494e+19 cm^-3 / bar\n"
     ]
    }
   ],
   "source": [
    "poly = np.polyfit(P,nes,1,w=(ne_errs)**-2)\n",
    "ne_pred = np.polyval(poly,P)\n",
    "                     \n",
    "print('Coefficient:', 1000*poly[0],'cm^-3 / bar')"
   ]
  },
  {
   "cell_type": "code",
   "execution_count": 66,
   "metadata": {},
   "outputs": [
    {
     "data": {
      "image/png": "[encoded data removed]",
      "text/plain": [
       "<Figure size 432x288 with 1 Axes>"
      ]
     },
     "metadata": {
      "needs_background": "light"
     },
     "output_type": "display_data"
    }
   ],
   "source": [
    "plt.errorbar(P,nes,ne_errs,marker='+',linestyle='')\n",
    "plt.xlabel('P (mbar)');\n",
    "plt.ylabel('$n_e  (cm^{-3})$');\n",
    "\n",
    "plt.plot(P,ne_pred);"
   ]
  },
  {
   "cell_type": "markdown",
   "metadata": {},
   "source": [
    "This now estimates the expected ionization rate:"
   ]
  },
  {
   "cell_type": "code",
   "execution_count": 74,
   "metadata": {},
   "outputs": [
    {
     "name": "stdout",
     "output_type": "stream",
     "text": [
      "Predicted no. molecules: 2.472004448515579e+19 cm^-3 / bar\n",
      "Inferred ionization state: 1.1966939346585284 electrons per molecule\n"
     ]
    }
   ],
   "source": [
    "T = 293\n",
    "\n",
    "coeff = 1e5 / (constant.Boltzmann*T) / 1e6\n",
    "Z = 1000*poly[0]/coeff\n",
    "\n",
    "print('Predicted no. molecules:',coeff,'cm^-3 / bar')\n",
    "print('Inferred ionization state:',Z,'electrons per molecule')"
   ]
  },
  {
   "cell_type": "code",
   "execution_count": null,
   "metadata": {},
   "outputs": [],
   "source": []
  }
 ],
 "metadata": {
  "kernelspec": {
   "display_name": "Python 3",
   "language": "python",
   "name": "python3"
  },
  "language_info": {
   "codemirror_mode": {
    "name": "ipython",
    "version": 3
   },
   "file_extension": ".py",
   "mimetype": "text/x-python",
   "name": "python",
   "nbconvert_exporter": "python",
   "pygments_lexer": "ipython3",
   "version": "3.7.0"
  }
 },
 "nbformat": 4,
 "nbformat_minor": 2
}
